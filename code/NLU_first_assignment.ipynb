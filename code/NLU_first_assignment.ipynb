{
  "nbformat": 4,
  "nbformat_minor": 0,
  "metadata": {
    "colab": {
      "name": "NLU first assignment.ipynb",
      "provenance": [],
      "collapsed_sections": [],
      "toc_visible": true,
      "authorship_tag": "ABX9TyOTEgn3lLGMrVYML9n2pIyy",
      "include_colab_link": true
    },
    "kernelspec": {
      "name": "python3",
      "display_name": "Python 3"
    },
    "language_info": {
      "name": "python"
    }
  },
  "cells": [
    {
      "cell_type": "markdown",
      "metadata": {
        "id": "view-in-github",
        "colab_type": "text"
      },
      "source": [
        "<a href=\"https://colab.research.google.com/github/steveazzolin/NLU-first-assignment/blob/main/code/NLU_first_assignment.ipynb\" target=\"_parent\"><img src=\"https://colab.research.google.com/assets/colab-badge.svg\" alt=\"Open In Colab\"/></a>"
      ]
    },
    {
      "cell_type": "markdown",
      "metadata": {
        "id": "d7uNQVmKfrRY"
      },
      "source": [
        "# NLU assignment 01\n",
        "## Steve Azzolin\n",
        "\n",
        "For further info about the functions implemented in this notebook please check the inline comments and TODO [this](TODO) report."
      ]
    },
    {
      "cell_type": "markdown",
      "metadata": {
        "id": "FS_6i-YViG-2"
      },
      "source": [
        "#### preparation"
      ]
    },
    {
      "cell_type": "code",
      "metadata": {
        "colab": {
          "base_uri": "https://localhost:8080/"
        },
        "id": "KgJLqR_dfVDe",
        "outputId": "d2389c1e-8f1f-49a6-9cec-ae19ffc7a079"
      },
      "source": [
        "!git clone https://github.com/steveazzolin/nltk.git\n",
        "!wget http://nlp.stanford.edu/data/glove.6B.zip\n",
        "!unzip glove.6B.zip\n",
        "!mkdir ../data\n",
        "!cp glove.6B.50d.txt ../data"
      ],
      "execution_count": 1,
      "outputs": [
        {
          "output_type": "stream",
          "text": [
            "Cloning into 'nltk'...\n",
            "remote: Enumerating objects: 74843, done.\u001b[K\n",
            "remote: Counting objects: 100% (693/693), done.\u001b[K\n",
            "remote: Compressing objects: 100% (543/543), done.\u001b[K\n",
            "remote: Total 74843 (delta 248), reused 297 (delta 149), pack-reused 74150\u001b[K\n",
            "Receiving objects: 100% (74843/74843), 106.02 MiB | 22.41 MiB/s, done.\n",
            "Resolving deltas: 100% (52402/52402), done.\n",
            "--2021-04-20 07:28:36--  http://nlp.stanford.edu/data/glove.6B.zip\n",
            "Resolving nlp.stanford.edu (nlp.stanford.edu)... 171.64.67.140\n",
            "Connecting to nlp.stanford.edu (nlp.stanford.edu)|171.64.67.140|:80... connected.\n",
            "HTTP request sent, awaiting response... 302 Found\n",
            "Location: https://nlp.stanford.edu/data/glove.6B.zip [following]\n",
            "--2021-04-20 07:28:36--  https://nlp.stanford.edu/data/glove.6B.zip\n",
            "Connecting to nlp.stanford.edu (nlp.stanford.edu)|171.64.67.140|:443... connected.\n",
            "HTTP request sent, awaiting response... 301 Moved Permanently\n",
            "Location: http://downloads.cs.stanford.edu/nlp/data/glove.6B.zip [following]\n",
            "--2021-04-20 07:28:37--  http://downloads.cs.stanford.edu/nlp/data/glove.6B.zip\n",
            "Resolving downloads.cs.stanford.edu (downloads.cs.stanford.edu)... 171.64.64.22\n",
            "Connecting to downloads.cs.stanford.edu (downloads.cs.stanford.edu)|171.64.64.22|:80... connected.\n",
            "HTTP request sent, awaiting response... 200 OK\n",
            "Length: 862182613 (822M) [application/zip]\n",
            "Saving to: ‘glove.6B.zip’\n",
            "\n",
            "glove.6B.zip        100%[===================>] 822.24M  4.31MB/s    in 3m 10s  \n",
            "\n",
            "2021-04-20 07:31:48 (4.34 MB/s) - ‘glove.6B.zip’ saved [862182613/862182613]\n",
            "\n",
            "Archive:  glove.6B.zip\n",
            "  inflating: glove.6B.50d.txt        \n",
            "  inflating: glove.6B.100d.txt       \n",
            "  inflating: glove.6B.200d.txt       \n",
            "  inflating: glove.6B.300d.txt       \n"
          ],
          "name": "stdout"
        }
      ]
    },
    {
      "cell_type": "code",
      "metadata": {
        "colab": {
          "base_uri": "https://localhost:8080/"
        },
        "id": "3s2keEAVkgcY",
        "outputId": "8d7f9c44-72e8-4e3a-8031-72909bdea946"
      },
      "source": [
        "!pip uninstall nltk\n",
        "!pip install spacy==2.2.4"
      ],
      "execution_count": 2,
      "outputs": [
        {
          "output_type": "stream",
          "text": [
            "Uninstalling nltk-3.2.5:\n",
            "  Would remove:\n",
            "    /usr/local/lib/python3.7/dist-packages/nltk-3.2.5.dist-info/*\n",
            "    /usr/local/lib/python3.7/dist-packages/nltk/*\n",
            "Proceed (y/n)? y\n",
            "  Successfully uninstalled nltk-3.2.5\n",
            "Requirement already satisfied: spacy==2.2.4 in /usr/local/lib/python3.7/dist-packages (2.2.4)\n",
            "Requirement already satisfied: tqdm<5.0.0,>=4.38.0 in /usr/local/lib/python3.7/dist-packages (from spacy==2.2.4) (4.41.1)\n",
            "Requirement already satisfied: numpy>=1.15.0 in /usr/local/lib/python3.7/dist-packages (from spacy==2.2.4) (1.19.5)\n",
            "Requirement already satisfied: blis<0.5.0,>=0.4.0 in /usr/local/lib/python3.7/dist-packages (from spacy==2.2.4) (0.4.1)\n",
            "Requirement already satisfied: murmurhash<1.1.0,>=0.28.0 in /usr/local/lib/python3.7/dist-packages (from spacy==2.2.4) (1.0.5)\n",
            "Requirement already satisfied: requests<3.0.0,>=2.13.0 in /usr/local/lib/python3.7/dist-packages (from spacy==2.2.4) (2.23.0)\n",
            "Requirement already satisfied: cymem<2.1.0,>=2.0.2 in /usr/local/lib/python3.7/dist-packages (from spacy==2.2.4) (2.0.5)\n",
            "Requirement already satisfied: wasabi<1.1.0,>=0.4.0 in /usr/local/lib/python3.7/dist-packages (from spacy==2.2.4) (0.8.2)\n",
            "Requirement already satisfied: srsly<1.1.0,>=1.0.2 in /usr/local/lib/python3.7/dist-packages (from spacy==2.2.4) (1.0.5)\n",
            "Requirement already satisfied: plac<1.2.0,>=0.9.6 in /usr/local/lib/python3.7/dist-packages (from spacy==2.2.4) (1.1.3)\n",
            "Requirement already satisfied: preshed<3.1.0,>=3.0.2 in /usr/local/lib/python3.7/dist-packages (from spacy==2.2.4) (3.0.5)\n",
            "Requirement already satisfied: thinc==7.4.0 in /usr/local/lib/python3.7/dist-packages (from spacy==2.2.4) (7.4.0)\n",
            "Requirement already satisfied: catalogue<1.1.0,>=0.0.7 in /usr/local/lib/python3.7/dist-packages (from spacy==2.2.4) (1.0.0)\n",
            "Requirement already satisfied: setuptools in /usr/local/lib/python3.7/dist-packages (from spacy==2.2.4) (54.2.0)\n",
            "Requirement already satisfied: certifi>=2017.4.17 in /usr/local/lib/python3.7/dist-packages (from requests<3.0.0,>=2.13.0->spacy==2.2.4) (2020.12.5)\n",
            "Requirement already satisfied: chardet<4,>=3.0.2 in /usr/local/lib/python3.7/dist-packages (from requests<3.0.0,>=2.13.0->spacy==2.2.4) (3.0.4)\n",
            "Requirement already satisfied: idna<3,>=2.5 in /usr/local/lib/python3.7/dist-packages (from requests<3.0.0,>=2.13.0->spacy==2.2.4) (2.10)\n",
            "Requirement already satisfied: urllib3!=1.25.0,!=1.25.1,<1.26,>=1.21.1 in /usr/local/lib/python3.7/dist-packages (from requests<3.0.0,>=2.13.0->spacy==2.2.4) (1.24.3)\n",
            "Requirement already satisfied: importlib-metadata>=0.20; python_version < \"3.8\" in /usr/local/lib/python3.7/dist-packages (from catalogue<1.1.0,>=0.0.7->spacy==2.2.4) (3.10.1)\n",
            "Requirement already satisfied: typing-extensions>=3.6.4; python_version < \"3.8\" in /usr/local/lib/python3.7/dist-packages (from importlib-metadata>=0.20; python_version < \"3.8\"->catalogue<1.1.0,>=0.0.7->spacy==2.2.4) (3.7.4.3)\n",
            "Requirement already satisfied: zipp>=0.5 in /usr/local/lib/python3.7/dist-packages (from importlib-metadata>=0.20; python_version < \"3.8\"->catalogue<1.1.0,>=0.0.7->spacy==2.2.4) (3.4.1)\n"
          ],
          "name": "stdout"
        }
      ]
    },
    {
      "cell_type": "markdown",
      "metadata": {
        "id": "_-gbYRZ0iI73"
      },
      "source": [
        "#### import modules"
      ]
    },
    {
      "cell_type": "code",
      "metadata": {
        "colab": {
          "base_uri": "https://localhost:8080/"
        },
        "id": "kRVxDfeuh1H_",
        "outputId": "32f8d196-cae2-4385-cb6f-482e21efe6b8"
      },
      "source": [
        "import spacy\n",
        "assert spacy.__version__ == '2.2.4'\n",
        "from spacy import displacy\n",
        "\n",
        "import matplotlib.pyplot as plt\n",
        "\n",
        "import time\n",
        "import sys\n",
        "from tqdm import tqdm\n",
        "from pathlib import Path\n",
        "\n",
        "spacy_nlp = spacy.load('en_core_web_sm')\n",
        "sys.path.insert(1, 'nltk/') #to import the local modified version of NLTK (for the extra point)\n",
        "\n",
        "import nltk\n",
        "from nltk.parse.transitionparser import TransitionParser, DependencyEvaluator\n",
        "from nltk.corpus import dependency_treebank\n",
        "nltk.download('dependency_treebank');"
      ],
      "execution_count": 3,
      "outputs": [
        {
          "output_type": "stream",
          "text": [
            "[nltk_data] Downloading package dependency_treebank to\n",
            "[nltk_data]     /root/nltk_data...\n",
            "[nltk_data]   Unzipping corpora/dependency_treebank.zip.\n"
          ],
          "name": "stderr"
        }
      ]
    },
    {
      "cell_type": "markdown",
      "metadata": {
        "id": "Q1xLx7jmicrv"
      },
      "source": [
        "#### supporting functions"
      ]
    },
    {
      "cell_type": "code",
      "metadata": {
        "id": "QvGXmGRQie3W"
      },
      "source": [
        "def plotDepGraph(spacy_doc):\n",
        "  \"\"\"\n",
        "  function to plot the dependency graph inline\n",
        "  \"\"\"\n",
        "  displacy.render(spacy_doc, style=\"dep\", jupyter=True)"
      ],
      "execution_count": 4,
      "outputs": []
    },
    {
      "cell_type": "markdown",
      "metadata": {
        "id": "l4BvoSCCjNrI"
      },
      "source": [
        "#### ex01"
      ]
    },
    {
      "cell_type": "code",
      "metadata": {
        "colab": {
          "base_uri": "https://localhost:8080/"
        },
        "id": "zulvhxvajM6g",
        "outputId": "21692a6d-eb5f-4cb2-ff64-f6095fae2503"
      },
      "source": [
        "def es1(sentence:str, debug=False):\n",
        "  \"\"\"\n",
        "  extract a path of dependency relations from the ROOT to a token\n",
        "    - input is a sentence, you parse it and get a Doc object of spaCy\n",
        "    - for each token the path will be a list of dependency relations, where first element is ROOT\n",
        "  \"\"\"\n",
        "  spacy_doc = spacy_nlp(sentence)\n",
        "  if debug: #plot the dependecy graph to inspect friendly the result\n",
        "    plotDepGraph(spacy_doc)\n",
        "\n",
        "  ret = []\n",
        "  for sent in spacy_doc.sents:\n",
        "      for token in sent:\n",
        "        ret.append([t.dep_ for t in token.ancestors][::-1])\n",
        "        ret[-1].extend([token.dep_])\n",
        "  return ret\n",
        "\n",
        "\n",
        "example = \"I saw the man with a telescope.\"\n",
        "es1(example)"
      ],
      "execution_count": 5,
      "outputs": [
        {
          "output_type": "execute_result",
          "data": {
            "text/plain": [
              "[['ROOT', 'nsubj'],\n",
              " ['ROOT'],\n",
              " ['ROOT', 'dobj', 'det'],\n",
              " ['ROOT', 'dobj'],\n",
              " ['ROOT', 'dobj', 'prep'],\n",
              " ['ROOT', 'dobj', 'prep', 'pobj', 'det'],\n",
              " ['ROOT', 'dobj', 'prep', 'pobj'],\n",
              " ['ROOT', 'punct']]"
            ]
          },
          "metadata": {
            "tags": []
          },
          "execution_count": 5
        }
      ]
    },
    {
      "cell_type": "markdown",
      "metadata": {
        "id": "WNkIrxszjRkP"
      },
      "source": [
        "#### ex02"
      ]
    },
    {
      "cell_type": "code",
      "metadata": {
        "colab": {
          "base_uri": "https://localhost:8080/"
        },
        "id": "H6mPB6AHjNAf",
        "outputId": "be2e0d56-c921-487f-8eb6-3956865ea981"
      },
      "source": [
        "def es2(sentence:str, debug=False):\n",
        "  \"\"\"\n",
        "  extract subtree of a dependents given a token\n",
        "    - input is a sentence, you parse it and get a Doc object of spaCy\n",
        "    - for each token in Doc objects you extract a subtree of its dependents as a list (ordered w.r.t. sentence order)\n",
        "  \"\"\"\n",
        "  spacy_doc = spacy_nlp(sentence)\n",
        "  if debug: #plot the dependecy graph to inspect friendly the result\n",
        "    plotDepGraph(spacy_doc)\n",
        "\n",
        "  ret = []\n",
        "  for sent in spacy_doc.sents:\n",
        "      for token in sent:\n",
        "        ret.append([t.text for t in token.subtree])\n",
        "  return ret\n",
        "\n",
        "\n",
        "example = \"I saw the man with a telescope.\"\n",
        "es2(example)"
      ],
      "execution_count": 6,
      "outputs": [
        {
          "output_type": "execute_result",
          "data": {
            "text/plain": [
              "[['I'],\n",
              " ['I', 'saw', 'the', 'man', 'with', 'a', 'telescope', '.'],\n",
              " ['the'],\n",
              " ['the', 'man', 'with', 'a', 'telescope'],\n",
              " ['with', 'a', 'telescope'],\n",
              " ['a'],\n",
              " ['a', 'telescope'],\n",
              " ['.']]"
            ]
          },
          "metadata": {
            "tags": []
          },
          "execution_count": 6
        }
      ]
    },
    {
      "cell_type": "markdown",
      "metadata": {
        "id": "UgTXWExyjVYX"
      },
      "source": [
        "#### ex03"
      ]
    },
    {
      "cell_type": "code",
      "metadata": {
        "colab": {
          "base_uri": "https://localhost:8080/"
        },
        "id": "wx1CzWW1jNFf",
        "outputId": "ae9a9f5f-df34-451c-c94e-127deda46bdc"
      },
      "source": [
        "def es3(sentence:str, subtree:list, debug=False):\n",
        "  \"\"\"\n",
        "  check if a given list of tokens (segment of a sentence) forms a subtree\n",
        "    - you parse a sentence and get a Doc object of spaCy\n",
        "    - providing as an input ordered list of words from a sentence, you output True/False based on the sequence forming a subtree or not\n",
        "  \"\"\"\n",
        "  assert \" \".join(subtree) in sentence\n",
        "  spacy_doc = spacy_nlp(sentence)\n",
        "  if debug: #plot the dependecy graph to inspect friendly the result\n",
        "    plotDepGraph(spacy_doc)\n",
        "\n",
        "  for sent in spacy_doc.sents:\n",
        "      for token in sent:\n",
        "        desc = [t.text for t in token.subtree] #or one might reuse the function defined by es2()\n",
        "        if desc == subtree:\n",
        "          return True\n",
        "  return False\n",
        "\n",
        "\n",
        "example = \"I saw the man with a telescope.\"\n",
        "es3(example, [\"the\", \"man\", \"with\", \"a\", \"telescope\"]) , es3(example, [\"man\", \"with\", \"a\", \"telescope\"])"
      ],
      "execution_count": 7,
      "outputs": [
        {
          "output_type": "execute_result",
          "data": {
            "text/plain": [
              "(True, False)"
            ]
          },
          "metadata": {
            "tags": []
          },
          "execution_count": 7
        }
      ]
    },
    {
      "cell_type": "markdown",
      "metadata": {
        "id": "oJ_5UUP5jYIY"
      },
      "source": [
        "#### ex04"
      ]
    },
    {
      "cell_type": "code",
      "metadata": {
        "colab": {
          "base_uri": "https://localhost:8080/"
        },
        "id": "Nhz60BQJjNKn",
        "outputId": "fc9fb3ba-5e6b-4b5c-a360-137208f332fe"
      },
      "source": [
        "def es4(words:str, debug=False):\n",
        "  \"\"\"\n",
        "  identify head of a span, given its tokens\n",
        "    - input is a sequence of words (not necessarily a sentence)\n",
        "    - output is the head of the span (single word)\n",
        "  \n",
        "  For consistency with other functions here the input is a Python string\n",
        "  \"\"\"\n",
        "  spacy_doc = spacy_nlp(words)\n",
        "  if debug: #plot the dependecy graph to inspect friendly the result\n",
        "    plotDepGraph(spacy_doc)\n",
        "  return list(spacy_doc.sents)[0].root\n",
        "\n",
        "\n",
        "example = \"I saw the man with a telescope.\"\n",
        "es4(example)"
      ],
      "execution_count": 8,
      "outputs": [
        {
          "output_type": "execute_result",
          "data": {
            "text/plain": [
              "saw"
            ]
          },
          "metadata": {
            "tags": []
          },
          "execution_count": 8
        }
      ]
    },
    {
      "cell_type": "markdown",
      "metadata": {
        "id": "2_wVWyzmjbY3"
      },
      "source": [
        "#### ex05"
      ]
    },
    {
      "cell_type": "code",
      "metadata": {
        "colab": {
          "base_uri": "https://localhost:8080/"
        },
        "id": "TJQ2V5MejcYo",
        "outputId": "eed345dd-cfd4-423e-fd18-918b28ace945"
      },
      "source": [
        "def es5(words:str, debug=False):\n",
        "  \"\"\"\n",
        "  extract sentence subject, direct object and indirect object spans\n",
        "    - input is a sentence, you parse it and get a Doc object of spaCy\n",
        "    - output is lists of words that form a span (not a single word) for subject, direct object, and indirect object (if present of course, otherwise empty)\n",
        "      - dict of lists, is better\n",
        "  \"\"\"\n",
        "  spacy_doc = spacy_nlp(words)\n",
        "  if debug: #plot the dependecy graph to inspect friendly the result\n",
        "    plotDepGraph(spacy_doc)\n",
        "\n",
        "  ret = {\"nsubj\":[], \"dobj\":[], \"dative\":[]}\n",
        "  for sent in spacy_doc.sents:\n",
        "      for token in sent:\n",
        "        if token.dep_ in [\"nsubj\", \"dobj\", \"iobj\"]:\n",
        "          ret[token.dep_].append(\" \".join([t.text for t in token.subtree]))\n",
        "  return ret\n",
        "\n",
        "\n",
        "example = \"I saw the man with a telescope.\"\n",
        "es5(example)"
      ],
      "execution_count": 9,
      "outputs": [
        {
          "output_type": "execute_result",
          "data": {
            "text/plain": [
              "{'dative': [], 'dobj': ['the man with a telescope'], 'nsubj': ['I']}"
            ]
          },
          "metadata": {
            "tags": []
          },
          "execution_count": 9
        }
      ]
    },
    {
      "cell_type": "markdown",
      "metadata": {
        "id": "cXT5Sw-kjfuI"
      },
      "source": [
        "#### extra point"
      ]
    },
    {
      "cell_type": "code",
      "metadata": {
        "colab": {
          "base_uri": "https://localhost:8080/",
          "height": 674
        },
        "id": "UO6KqfB7h74H",
        "outputId": "765c35fa-73f9-4699-d527-65e6e92182e2"
      },
      "source": [
        "%%time\n",
        "\n",
        "def extra_point():\n",
        "  tp = TransitionParser('arc-standard', use_glove=False, model=2)\n",
        "  tp.train(dependency_treebank.parsed_sents()[:100], 'tp.model')\n",
        "  parses = tp.parse(dependency_treebank.parsed_sents()[-20:], 'tp.model')\n",
        "  de = DependencyEvaluator(parses, dependency_treebank.parsed_sents()[-20:])\n",
        "  las, uas = de.eval()\n",
        "  print(\"\\nLAS={} USA={} without GLOVE\\n\".format(round(las,2), round(uas,2)))\n",
        "\n",
        "  tp = TransitionParser('arc-standard', use_glove=True, model=2)\n",
        "  tp.train(dependency_treebank.parsed_sents()[:100], 'tp.model')\n",
        "  parses = tp.parse(dependency_treebank.parsed_sents()[-20:], 'tp.model')\n",
        "  de = DependencyEvaluator(parses, dependency_treebank.parsed_sents()[-20:])\n",
        "  las, uas = de.eval()\n",
        "  print(\"\\nLAS={} USA={} with GLOVE\\n\".format(round(las,2), round(uas,2)))\n",
        "\n",
        "\n",
        "  results = []\n",
        "  times = []\n",
        "  train_data_to_test = [10, 100, 300, 500, 700]\n",
        "  pbar = tqdm(total=len(train_data_to_test*3))\n",
        "  for i , model in enumerate([0, 1, 2]):\n",
        "    results.append([])\n",
        "    times.append([])\n",
        "    for train_data in train_data_to_test:    \n",
        "      start = time.time()\n",
        "      tp = TransitionParser('arc-standard', use_glove=False, model=model)\n",
        "      tp.train(dependency_treebank.parsed_sents()[:train_data], 'tp.model')\n",
        "\n",
        "      times[i].append(time.time()-start)\n",
        "\n",
        "      parses = tp.parse(dependency_treebank.parsed_sents()[-20:], 'tp.model')\n",
        "      de = DependencyEvaluator(parses, dependency_treebank.parsed_sents()[-20:])\n",
        "      las, _ = de.eval()\n",
        "      results[i].append(las)\n",
        "      pbar.update(1)      \n",
        "  pbar.close()\n",
        "\n",
        "  \n",
        "  plt.figure(figsize=(8, 6), dpi=80)\n",
        "\n",
        "  ax1 = plt.subplot(211)\n",
        "  ax1.plot(train_data_to_test, results[0], label=\"RandomForest\")\n",
        "  ax1.plot(train_data_to_test, results[1], label=\"DecisionTree\")\n",
        "  ax1.plot(train_data_to_test, results[2], label=\"SVC\")\n",
        "  ax1.set(xlabel='n° training samples', ylabel='LAS', title='LAS scores')\n",
        "  ax1.set_ylim(0.0, 1.0)\n",
        "  plt.legend()\n",
        "  plt.grid()\n",
        "\n",
        "  ax2 = plt.subplot(212, sharex=ax1)\n",
        "  ax2.plot(train_data_to_test, times[0], label=\"RandomForest\")\n",
        "  ax2.plot(train_data_to_test, times[1], label=\"DecisionTree\")\n",
        "  ax2.plot(train_data_to_test, times[2], label=\"SVC\")\n",
        "  ax2.set(xlabel='n° training samples', ylabel='Training time\\n (s)', title='Training times')\n",
        "\n",
        "  plt.legend()\n",
        "  plt.grid()\n",
        "  plt.tight_layout()\n",
        "  plt.show()\n",
        "\n",
        "\n",
        "\n",
        "extra_point()"
      ],
      "execution_count": 10,
      "outputs": [
        {
          "output_type": "stream",
          "text": [
            "\n",
            "LAS=0.88 USA=0.88 without GLOVE\n",
            "\n",
            "Reading GLOVE....\n",
            "GLOVE read\n"
          ],
          "name": "stdout"
        },
        {
          "output_type": "stream",
          "text": [
            "\r  0%|          | 0/15 [00:00<?, ?it/s]"
          ],
          "name": "stderr"
        },
        {
          "output_type": "stream",
          "text": [
            "\n",
            "LAS=0.45 USA=0.45 with GLOVE\n",
            "\n"
          ],
          "name": "stdout"
        },
        {
          "output_type": "stream",
          "text": [
            "100%|██████████| 15/15 [22:49<00:00, 91.29s/it] \n"
          ],
          "name": "stderr"
        },
        {
          "output_type": "display_data",
          "data": {
            "image/png": "[encoded data removed]",
            "text/plain": [
              "<Figure size 640x480 with 2 Axes>"
            ]
          },
          "metadata": {
            "tags": [],
            "needs_background": "light"
          }
        },
        {
          "output_type": "stream",
          "text": [
            "CPU times: user 23min 36s, sys: 6.89 s, total: 23min 43s\n",
            "Wall time: 23min 37s\n"
          ],
          "name": "stdout"
        }
      ]
    }
  ]
}